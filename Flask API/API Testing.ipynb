{
 "cells": [
  {
   "cell_type": "code",
   "execution_count": 10,
   "id": "864e578a",
   "metadata": {},
   "outputs": [],
   "source": [
    "import pandas as pd \n",
    "import numpy as np\n",
    "import matplotlib.pyplot as plt\n",
    "import os\n",
    "import cv2\n",
    "from PIL import Image\n",
    "import tensorflow as tf\n",
    "from tensorflow import keras\n",
    "import requests\n",
    "import json"
   ]
  },
  {
   "cell_type": "code",
   "execution_count": 5,
   "id": "2e1fd687",
   "metadata": {},
   "outputs": [],
   "source": [
    "image = np.array(Image.open('../test images/aadhar1.jpg'))"
   ]
  },
  {
   "cell_type": "code",
   "execution_count": 6,
   "id": "134d94f3",
   "metadata": {},
   "outputs": [],
   "source": [
    "image_resized = cv2.resize(image,(128,128))"
   ]
  },
  {
   "cell_type": "code",
   "execution_count": 11,
   "id": "8d45b012",
   "metadata": {},
   "outputs": [],
   "source": [
    "json_data = json.dumps({\"img\":image_resized.tolist()})\n",
    "response = requests.post(\"http://127.0.0.1:5000/predict\",json_data)"
   ]
  },
  {
   "cell_type": "code",
   "execution_count": 12,
   "id": "bbe42528",
   "metadata": {},
   "outputs": [
    {
     "data": {
      "text/plain": [
       "'Aadhar Card'"
      ]
     },
     "execution_count": 12,
     "metadata": {},
     "output_type": "execute_result"
    }
   ],
   "source": [
    "response.text"
   ]
  },
  {
   "cell_type": "code",
   "execution_count": null,
   "id": "eb3e7ee2",
   "metadata": {},
   "outputs": [],
   "source": []
  }
 ],
 "metadata": {
  "kernelspec": {
   "display_name": "Python 3 (ipykernel)",
   "language": "python",
   "name": "python3"
  },
  "language_info": {
   "codemirror_mode": {
    "name": "ipython",
    "version": 3
   },
   "file_extension": ".py",
   "mimetype": "text/x-python",
   "name": "python",
   "nbconvert_exporter": "python",
   "pygments_lexer": "ipython3",
   "version": "3.9.7"
  }
 },
 "nbformat": 4,
 "nbformat_minor": 5
}
