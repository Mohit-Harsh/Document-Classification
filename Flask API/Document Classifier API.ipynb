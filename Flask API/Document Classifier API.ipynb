{
 "cells": [
  {
   "cell_type": "code",
   "execution_count": 1,
   "id": "3bd375e7",
   "metadata": {},
   "outputs": [],
   "source": [
    "from flask import Flask,request\n",
    "import json\n",
    "import pandas as pd\n",
    "import numpy as np\n",
    "from tensorflow import keras\n",
    "import os\n",
    "import cv2\n",
    "from PIL import Image\n",
    "import tensorflow as tf\n",
    "from tensorflow import keras"
   ]
  },
  {
   "cell_type": "code",
   "execution_count": 2,
   "id": "285adabb",
   "metadata": {},
   "outputs": [
    {
     "name": "stdout",
     "output_type": "stream",
     "text": [
      " * Serving Flask app \"__main__\" (lazy loading)\n",
      " * Environment: production\n",
      "\u001b[31m   WARNING: This is a development server. Do not use it in a production deployment.\u001b[0m\n",
      "\u001b[2m   Use a production WSGI server instead.\u001b[0m\n",
      " * Debug mode: off\n"
     ]
    },
    {
     "name": "stderr",
     "output_type": "stream",
     "text": [
      " * Running on http://127.0.0.1:5000/ (Press CTRL+C to quit)\n"
     ]
    },
    {
     "name": "stdout",
     "output_type": "stream",
     "text": [
      "1/1 [==============================] - 2s 2s/step\n"
     ]
    },
    {
     "name": "stderr",
     "output_type": "stream",
     "text": [
      "127.0.0.1 - - [30/May/2024 11:28:01] \"POST /predict HTTP/1.1\" 200 -\n"
     ]
    },
    {
     "name": "stdout",
     "output_type": "stream",
     "text": [
      "1/1 [==============================] - 0s 26ms/step\n"
     ]
    },
    {
     "name": "stderr",
     "output_type": "stream",
     "text": [
      "127.0.0.1 - - [30/May/2024 11:28:29] \"POST /predict HTTP/1.1\" 200 -\n"
     ]
    },
    {
     "name": "stdout",
     "output_type": "stream",
     "text": [
      "1/1 [==============================] - 0s 26ms/step\n"
     ]
    },
    {
     "name": "stderr",
     "output_type": "stream",
     "text": [
      "127.0.0.1 - - [30/May/2024 11:29:00] \"POST /predict HTTP/1.1\" 200 -\n"
     ]
    },
    {
     "name": "stdout",
     "output_type": "stream",
     "text": [
      "1/1 [==============================] - 0s 23ms/step\n"
     ]
    },
    {
     "name": "stderr",
     "output_type": "stream",
     "text": [
      "127.0.0.1 - - [30/May/2024 11:29:35] \"POST /predict HTTP/1.1\" 200 -\n"
     ]
    },
    {
     "name": "stdout",
     "output_type": "stream",
     "text": [
      "1/1 [==============================] - 0s 23ms/step\n"
     ]
    },
    {
     "name": "stderr",
     "output_type": "stream",
     "text": [
      "127.0.0.1 - - [30/May/2024 11:29:44] \"POST /predict HTTP/1.1\" 200 -\n"
     ]
    },
    {
     "name": "stdout",
     "output_type": "stream",
     "text": [
      "1/1 [==============================] - 0s 25ms/step\n"
     ]
    },
    {
     "name": "stderr",
     "output_type": "stream",
     "text": [
      "127.0.0.1 - - [30/May/2024 11:29:57] \"POST /predict HTTP/1.1\" 200 -\n"
     ]
    },
    {
     "name": "stdout",
     "output_type": "stream",
     "text": [
      "1/1 [==============================] - 0s 25ms/step\n"
     ]
    },
    {
     "name": "stderr",
     "output_type": "stream",
     "text": [
      "127.0.0.1 - - [30/May/2024 11:31:30] \"POST /predict HTTP/1.1\" 200 -\n",
      "[2024-05-30 11:32:31,420] ERROR in app: Exception on /predict [POST]\n",
      "Traceback (most recent call last):\n",
      "  File \"D:\\Anaconda\\lib\\site-packages\\flask\\app.py\", line 2447, in wsgi_app\n",
      "    response = self.full_dispatch_request()\n",
      "  File \"D:\\Anaconda\\lib\\site-packages\\flask\\app.py\", line 1952, in full_dispatch_request\n",
      "    rv = self.handle_user_exception(e)\n",
      "  File \"D:\\Anaconda\\lib\\site-packages\\flask\\app.py\", line 1821, in handle_user_exception\n",
      "    reraise(exc_type, exc_value, tb)\n",
      "  File \"D:\\Anaconda\\lib\\site-packages\\flask\\_compat.py\", line 39, in reraise\n",
      "    raise value\n",
      "  File \"D:\\Anaconda\\lib\\site-packages\\flask\\app.py\", line 1950, in full_dispatch_request\n",
      "    rv = self.dispatch_request()\n",
      "  File \"D:\\Anaconda\\lib\\site-packages\\flask\\app.py\", line 1936, in dispatch_request\n",
      "    return self.view_functions[rule.endpoint](**req.view_args)\n",
      "  File \"C:\\Users\\MOHITH~1\\AppData\\Local\\Temp/ipykernel_5160/1254023679.py\", line 10, in predict\n",
      "    prediction = int(np.round(model.predict(np.array([img]))))\n",
      "  File \"D:\\Anaconda\\lib\\site-packages\\keras\\utils\\traceback_utils.py\", line 70, in error_handler\n",
      "    raise e.with_traceback(filtered_tb) from None\n",
      "  File \"D:\\Anaconda\\lib\\site-packages\\tensorflow\\python\\eager\\execute.py\", line 54, in quick_execute\n",
      "    tensors = pywrap_tfe.TFE_Py_Execute(ctx._handle, device_name, op_name,\n",
      "tensorflow.python.framework.errors_impl.InvalidArgumentError: Graph execution error:\n",
      "\n",
      "Detected at node 'sequential_1/conv2d_4/Relu' defined at (most recent call last):\n",
      "    File \"D:\\Anaconda\\lib\\threading.py\", line 930, in _bootstrap\n",
      "      self._bootstrap_inner()\n",
      "    File \"D:\\Anaconda\\lib\\threading.py\", line 973, in _bootstrap_inner\n",
      "      self.run()\n",
      "    File \"D:\\Anaconda\\lib\\threading.py\", line 910, in run\n",
      "      self._target(*self._args, **self._kwargs)\n",
      "    File \"D:\\Anaconda\\lib\\socketserver.py\", line 683, in process_request_thread\n",
      "      self.finish_request(request, client_address)\n",
      "    File \"D:\\Anaconda\\lib\\socketserver.py\", line 360, in finish_request\n",
      "      self.RequestHandlerClass(request, client_address, self)\n",
      "    File \"D:\\Anaconda\\lib\\socketserver.py\", line 747, in __init__\n",
      "      self.handle()\n",
      "    File \"D:\\Anaconda\\lib\\site-packages\\werkzeug\\serving.py\", line 342, in handle\n",
      "      BaseHTTPRequestHandler.handle(self)\n",
      "    File \"D:\\Anaconda\\lib\\http\\server.py\", line 427, in handle\n",
      "      self.handle_one_request()\n",
      "    File \"D:\\Anaconda\\lib\\site-packages\\werkzeug\\serving.py\", line 374, in handle_one_request\n",
      "      self.run_wsgi()\n",
      "    File \"D:\\Anaconda\\lib\\site-packages\\werkzeug\\serving.py\", line 319, in run_wsgi\n",
      "      execute(self.server.app)\n",
      "    File \"D:\\Anaconda\\lib\\site-packages\\werkzeug\\serving.py\", line 308, in execute\n",
      "      application_iter = app(environ, start_response)\n",
      "    File \"D:\\Anaconda\\lib\\site-packages\\flask\\app.py\", line 2464, in __call__\n",
      "      return self.wsgi_app(environ, start_response)\n",
      "    File \"D:\\Anaconda\\lib\\site-packages\\flask\\app.py\", line 2447, in wsgi_app\n",
      "      response = self.full_dispatch_request()\n",
      "    File \"D:\\Anaconda\\lib\\site-packages\\flask\\app.py\", line 1950, in full_dispatch_request\n",
      "      rv = self.dispatch_request()\n",
      "    File \"D:\\Anaconda\\lib\\site-packages\\flask\\app.py\", line 1936, in dispatch_request\n",
      "      return self.view_functions[rule.endpoint](**req.view_args)\n",
      "    File \"C:\\Users\\MOHITH~1\\AppData\\Local\\Temp/ipykernel_5160/1254023679.py\", line 10, in predict\n",
      "      prediction = int(np.round(model.predict(np.array([img]))))\n",
      "    File \"D:\\Anaconda\\lib\\site-packages\\keras\\utils\\traceback_utils.py\", line 65, in error_handler\n",
      "      return fn(*args, **kwargs)\n",
      "    File \"D:\\Anaconda\\lib\\site-packages\\keras\\engine\\training.py\", line 2253, in predict\n",
      "      tmp_batch_outputs = self.predict_function(iterator)\n",
      "    File \"D:\\Anaconda\\lib\\site-packages\\keras\\engine\\training.py\", line 2041, in predict_function\n",
      "      return step_function(self, iterator)\n",
      "    File \"D:\\Anaconda\\lib\\site-packages\\keras\\engine\\training.py\", line 2027, in step_function\n",
      "      outputs = model.distribute_strategy.run(run_step, args=(data,))\n",
      "    File \"D:\\Anaconda\\lib\\site-packages\\keras\\engine\\training.py\", line 2015, in run_step\n",
      "      outputs = model.predict_step(data)\n",
      "    File \"D:\\Anaconda\\lib\\site-packages\\keras\\engine\\training.py\", line 1983, in predict_step\n",
      "      return self(x, training=False)\n",
      "    File \"D:\\Anaconda\\lib\\site-packages\\keras\\utils\\traceback_utils.py\", line 65, in error_handler\n",
      "      return fn(*args, **kwargs)\n",
      "    File \"D:\\Anaconda\\lib\\site-packages\\keras\\engine\\training.py\", line 557, in __call__\n",
      "      return super().__call__(*args, **kwargs)\n",
      "    File \"D:\\Anaconda\\lib\\site-packages\\keras\\utils\\traceback_utils.py\", line 65, in error_handler\n",
      "      return fn(*args, **kwargs)\n",
      "    File \"D:\\Anaconda\\lib\\site-packages\\keras\\engine\\base_layer.py\", line 1097, in __call__\n",
      "      outputs = call_fn(inputs, *args, **kwargs)\n",
      "    File \"D:\\Anaconda\\lib\\site-packages\\keras\\utils\\traceback_utils.py\", line 96, in error_handler\n",
      "      return fn(*args, **kwargs)\n",
      "    File \"D:\\Anaconda\\lib\\site-packages\\keras\\engine\\sequential.py\", line 410, in call\n",
      "      return super().call(inputs, training=training, mask=mask)\n",
      "    File \"D:\\Anaconda\\lib\\site-packages\\keras\\engine\\functional.py\", line 510, in call\n",
      "      return self._run_internal_graph(inputs, training=training, mask=mask)\n",
      "    File \"D:\\Anaconda\\lib\\site-packages\\keras\\engine\\functional.py\", line 667, in _run_internal_graph\n",
      "      outputs = node.layer(*args, **kwargs)\n",
      "    File \"D:\\Anaconda\\lib\\site-packages\\keras\\utils\\traceback_utils.py\", line 65, in error_handler\n",
      "      return fn(*args, **kwargs)\n",
      "    File \"D:\\Anaconda\\lib\\site-packages\\keras\\engine\\base_layer.py\", line 1097, in __call__\n",
      "      outputs = call_fn(inputs, *args, **kwargs)\n",
      "    File \"D:\\Anaconda\\lib\\site-packages\\keras\\utils\\traceback_utils.py\", line 96, in error_handler\n",
      "      return fn(*args, **kwargs)\n",
      "    File \"D:\\Anaconda\\lib\\site-packages\\keras\\layers\\convolutional\\base_conv.py\", line 314, in call\n",
      "      return self.activation(outputs)\n",
      "    File \"D:\\Anaconda\\lib\\site-packages\\keras\\activations.py\", line 317, in relu\n",
      "      return backend.relu(\n",
      "    File \"D:\\Anaconda\\lib\\site-packages\\keras\\backend.py\", line 5366, in relu\n",
      "      x = tf.nn.relu(x)\n",
      "Node: 'sequential_1/conv2d_4/Relu'\n",
      "input must be 4-dimensional[1,128,128]\n",
      "\t [[{{node sequential_1/conv2d_4/Relu}}]] [Op:__inference_predict_function_1133]\n",
      "127.0.0.1 - - [30/May/2024 11:32:31] \"POST /predict HTTP/1.1\" 500 -\n"
     ]
    },
    {
     "name": "stdout",
     "output_type": "stream",
     "text": [
      "1/1 [==============================] - 0s 46ms/step\n"
     ]
    },
    {
     "name": "stderr",
     "output_type": "stream",
     "text": [
      "127.0.0.1 - - [30/May/2024 11:53:11] \"POST /predict HTTP/1.1\" 200 -\n"
     ]
    },
    {
     "name": "stdout",
     "output_type": "stream",
     "text": [
      "1/1 [==============================] - 0s 25ms/step\n"
     ]
    },
    {
     "name": "stderr",
     "output_type": "stream",
     "text": [
      "127.0.0.1 - - [30/May/2024 11:57:02] \"POST /predict HTTP/1.1\" 200 -\n"
     ]
    },
    {
     "name": "stdout",
     "output_type": "stream",
     "text": [
      "1/1 [==============================] - 0s 23ms/step\n"
     ]
    },
    {
     "name": "stderr",
     "output_type": "stream",
     "text": [
      "127.0.0.1 - - [30/May/2024 11:57:03] \"POST /predict HTTP/1.1\" 200 -\n"
     ]
    },
    {
     "name": "stdout",
     "output_type": "stream",
     "text": [
      "1/1 [==============================] - 0s 24ms/step\n"
     ]
    },
    {
     "name": "stderr",
     "output_type": "stream",
     "text": [
      "127.0.0.1 - - [30/May/2024 11:57:03] \"POST /predict HTTP/1.1\" 200 -\n"
     ]
    },
    {
     "name": "stdout",
     "output_type": "stream",
     "text": [
      "1/1 [==============================] - 0s 25ms/step\n"
     ]
    },
    {
     "name": "stderr",
     "output_type": "stream",
     "text": [
      "127.0.0.1 - - [30/May/2024 11:57:10] \"POST /predict HTTP/1.1\" 200 -\n"
     ]
    },
    {
     "name": "stdout",
     "output_type": "stream",
     "text": [
      "1/1 [==============================] - 0s 24ms/step\n"
     ]
    },
    {
     "name": "stderr",
     "output_type": "stream",
     "text": [
      "127.0.0.1 - - [30/May/2024 11:57:11] \"POST /predict HTTP/1.1\" 200 -\n"
     ]
    },
    {
     "name": "stdout",
     "output_type": "stream",
     "text": [
      "1/1 [==============================] - 0s 65ms/step\n"
     ]
    },
    {
     "name": "stderr",
     "output_type": "stream",
     "text": [
      "127.0.0.1 - - [30/May/2024 11:57:11] \"POST /predict HTTP/1.1\" 200 -\n"
     ]
    },
    {
     "name": "stdout",
     "output_type": "stream",
     "text": [
      "1/1 [==============================] - 0s 27ms/step\n"
     ]
    },
    {
     "name": "stderr",
     "output_type": "stream",
     "text": [
      "127.0.0.1 - - [30/May/2024 11:57:20] \"POST /predict HTTP/1.1\" 200 -\n"
     ]
    },
    {
     "name": "stdout",
     "output_type": "stream",
     "text": [
      "1/1 [==============================] - 0s 23ms/step\n"
     ]
    },
    {
     "name": "stderr",
     "output_type": "stream",
     "text": [
      "127.0.0.1 - - [30/May/2024 11:57:20] \"POST /predict HTTP/1.1\" 200 -\n"
     ]
    },
    {
     "name": "stdout",
     "output_type": "stream",
     "text": [
      "1/1 [==============================] - 0s 24ms/step\n"
     ]
    },
    {
     "name": "stderr",
     "output_type": "stream",
     "text": [
      "127.0.0.1 - - [30/May/2024 11:57:36] \"POST /predict HTTP/1.1\" 200 -\n"
     ]
    },
    {
     "name": "stdout",
     "output_type": "stream",
     "text": [
      "1/1 [==============================] - 0s 27ms/step\n"
     ]
    },
    {
     "name": "stderr",
     "output_type": "stream",
     "text": [
      "127.0.0.1 - - [30/May/2024 11:57:36] \"POST /predict HTTP/1.1\" 200 -\n"
     ]
    }
   ],
   "source": [
    "app = Flask(__name__)\n",
    "\n",
    "model = keras.models.load_model('../document_classifier.h5')\n",
    "\n",
    "@app.route('/predict', methods=['Post'])\n",
    "def predict():\n",
    "    \n",
    "    data = request.get_json(force=True)\n",
    "    img = np.array(data['img'])\n",
    "    prediction = int(np.round(model.predict(np.array([img]))))\n",
    "    \n",
    "    if prediction == 0:\n",
    "        return \"Aadhar Card\"\n",
    "    else:\n",
    "        return \"Pan Card\"\n",
    "    \n",
    "if __name__ == \"__main__\":\n",
    "    app.run()"
   ]
  },
  {
   "cell_type": "code",
   "execution_count": null,
   "id": "f73257ce",
   "metadata": {},
   "outputs": [],
   "source": []
  }
 ],
 "metadata": {
  "kernelspec": {
   "display_name": "Python 3 (ipykernel)",
   "language": "python",
   "name": "python3"
  },
  "language_info": {
   "codemirror_mode": {
    "name": "ipython",
    "version": 3
   },
   "file_extension": ".py",
   "mimetype": "text/x-python",
   "name": "python",
   "nbconvert_exporter": "python",
   "pygments_lexer": "ipython3",
   "version": "3.9.7"
  }
 },
 "nbformat": 4,
 "nbformat_minor": 5
}
